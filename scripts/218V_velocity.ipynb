{
 "cells": [
  {
   "cell_type": "code",
   "execution_count": 1,
   "id": "7c91f77b",
   "metadata": {},
   "outputs": [],
   "source": [
    "import utils_erj as ut\n",
    "import scanpy as sc\n",
    "import scvelo as scv\n",
    "import pandas as pd\n",
    "import numpy as np"
   ]
  },
  {
   "cell_type": "code",
   "execution_count": 2,
   "id": "1c9e6e84",
   "metadata": {},
   "outputs": [],
   "source": [
    "path_to_loom = 'loom_218V.loom'\n",
    "path_to_h5ad = \"lung_merged_new.h5ad\"\n",
    "char_to_skip_loom = 10\n",
    "char_to_skip_h5ad = 18\n",
    "file_ident = 'human_lung-218'\n",
    "col_name_obs = 'orig.ident'\n",
    "col_value_obs = 'lung-218V-control'\n",
    "write_h5ad = True\n",
    "save_velo_graphic = True"
   ]
  },
  {
   "cell_type": "code",
   "execution_count": 36,
   "id": "4c68f716",
   "metadata": {},
   "outputs": [],
   "source": [
    "scv.set_figure_params()\n",
    "h1 = ut.calculate_velocity(path_to_loom)\n",
    "erj = sc.read_h5ad(path_to_h5ad)\n",
    "erj_2 = ut.filter_adata_obs(erj,col_name_obs,col_value_obs)\n",
    "ut.create_ID_velo(erj_2,char_to_skip_h5ad)\n",
    "ut.create_ID_velo(h1,char_to_skip_loom)\n",
    "ind = ut.find_cell_tags(h1,erj_2)\n",
    "adata_fin = h1[ind]\n",
    "adata_fin.obs = adata_fin.obs.merge(erj_2.obs, on = 'ID_velo')\n",
    "ut.merge_obsm(adata_fin,erj_2,'X_umap')\n",
    "adata_fin.write(file_ident+'_velo.h5ad')\n",
    "scv.pl.velocity_embedding_stream(adata_fin,\n",
    "                                         basis='X_umap',\n",
    "                                         color = 'celltype',\n",
    "                                         linewidth = 1.4,\n",
    "                                         save=file_ident+'_velo_celltype_clus.png')\n",
    "scv.pl.velocity_embedding_stream(adata_fin, basis='X_umap',\n",
    "                                 color = 'old_celltype_completed',\n",
    "                                 linewidth = 1.4,\n",
    "                                save=file_ident+'_velo_celltype_name.png')"
   ]
  }
 ],
 "metadata": {
  "kernelspec": {
   "display_name": "Python 3",
   "language": "python",
   "name": "python3"
  },
  "language_info": {
   "codemirror_mode": {
    "name": "ipython",
    "version": 3
   },
   "file_extension": ".py",
   "mimetype": "text/x-python",
   "name": "python",
   "nbconvert_exporter": "python",
   "pygments_lexer": "ipython3",
   "version": "3.8.8"
  }
 },
 "nbformat": 4,
 "nbformat_minor": 5
}
